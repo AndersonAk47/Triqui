{
 "cells": [
  {
   "cell_type": "markdown",
   "metadata": {},
   "source": [
    "# Ejercicio 1: Función potencia #\n"
   ]
  },
  {
   "cell_type": "code",
   "execution_count": 2,
   "metadata": {},
   "outputs": [
    {
     "name": "stdout",
     "output_type": "stream",
     "text": [
      "8\n"
     ]
    }
   ],
   "source": [
    "    # Definicion de variables numerador exponente y resultado\n",
    "base: int= 2\n",
    "exp : int = 3\n",
    "resultado: int = base\n",
    "\n",
    "    # Recorre  el rango de exp . \n",
    "for i  in range(exp-1):\n",
    "     resultado *= base\n",
    "\n",
    "     # Imprime resultado\n",
    "print (resultado)"
   ]
  },
  {
   "cell_type": "code",
   "execution_count": 14,
   "metadata": {},
   "outputs": [
    {
     "name": "stdout",
     "output_type": "stream",
     "text": [
      "4096\n"
     ]
    }
   ],
   "source": [
    "  # Definicion de variables numerador y exponente\n",
    "m= int(4)\n",
    "n = int(6)\n",
    "  # Definición de la función \n",
    "def potencia (n,m):\n",
    "     # Caso base: si m es 0, devuelve 1\n",
    "   if  m == 0 :\n",
    "     return(1)\n",
    "   else :\n",
    "      # Caso recursivo: multiplica n por la potencia \n",
    "    return n*potencia (n,m-1)\n",
    "\n",
    "  # Imprime resultado\n",
    "print(potencia(4,6))\n",
    "\n"
   ]
  },
  {
   "cell_type": "code",
   "execution_count": 3,
   "metadata": {},
   "outputs": [
    {
     "name": "stdout",
     "output_type": "stream",
     "text": [
      "262144\n"
     ]
    }
   ],
   "source": [
    "    # Definicion de variables numerador , exponente y resultado\n",
    "base: int= 4\n",
    "exp : int = 9\n",
    "resultado: int = base\n",
    "contador: int = 1\n",
    "\n",
    "    # Condicion  \n",
    "while contador < exp:\n",
    "     resultado *= base\n",
    "     contador += 1    \n",
    "\n",
    "     # Imprime resultado\n",
    "print (resultado)"
   ]
  },
  {
   "cell_type": "markdown",
   "metadata": {},
   "source": [
    "# Ejericio 2: Función Fibonacci #"
   ]
  },
  {
   "cell_type": "code",
   "execution_count": 5,
   "metadata": {},
   "outputs": [],
   "source": [
    "  # Definicion de  funcion  fibinacci.\n",
    "def fibonacci(n: int):\n",
    "    # Caso base: si n es 0 o 1, devuelve 1\n",
    "    if n == 0 or n == 1:\n",
    "        return 1\n",
    "    # Caso recursivo: \n",
    "    else:\n",
    "        return fibonacci(n - 1) + fibonacci(n - 2)\n"
   ]
  },
  {
   "cell_type": "markdown",
   "metadata": {},
   "source": [
    " Ejercicio 3: Función de Ackermann"
   ]
  },
  {
   "cell_type": "code",
   "execution_count": 12,
   "metadata": {},
   "outputs": [],
   "source": [
    "    # Definicion de  funcion  fibinacci.\n",
    "def ackermann(m: int, n: int) -> int:\n",
    "    # Caso 1: si m es 0, devuelve n + 1\n",
    "    if m == 0:\n",
    "        return n + 1\n",
    "    # Caso 2: si m > 0 y n es 0, llama a A(m - 1, 1)\n",
    "    elif m > 0 and n == 0:\n",
    "        return ackermann(m - 1, 1)\n",
    "    # Caso 3: si m > 0 y n > 0, llama a A(m - 1, A(m, n - 1))\n",
    "    else:\n",
    "        return ackermann(m - 1, ackermann(m, n - 1))"
   ]
  }
 ],
 "metadata": {
  "kernelspec": {
   "display_name": "Python 3",
   "language": "python",
   "name": "python3"
  },
  "language_info": {
   "codemirror_mode": {
    "name": "ipython",
    "version": 3
   },
   "file_extension": ".py",
   "mimetype": "text/x-python",
   "name": "python",
   "nbconvert_exporter": "python",
   "pygments_lexer": "ipython3",
   "version": "3.12.3"
  }
 },
 "nbformat": 4,
 "nbformat_minor": 2
}
